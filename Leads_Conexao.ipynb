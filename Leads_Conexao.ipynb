{
 "cells": [
  {
   "cell_type": "markdown",
   "id": "d6222d36",
   "metadata": {},
   "source": [
    "# Automatização do processo de limpeza, processamento e importação de leads para o Salesforce\n",
    "\n",
    "### O processo de automatização de leads levava horas para ficar pronto, mas com a automatização o processo foi reduzido para minutos. Abaixo segue o passo a passo, do código até a integração com o Salesforce."
   ]
  },
  {
   "cell_type": "code",
   "execution_count": 1,
   "id": "fee6f279",
   "metadata": {},
   "outputs": [
    {
     "data": {
      "text/html": [
       "<div>\n",
       "<style scoped>\n",
       "    .dataframe tbody tr th:only-of-type {\n",
       "        vertical-align: middle;\n",
       "    }\n",
       "\n",
       "    .dataframe tbody tr th {\n",
       "        vertical-align: top;\n",
       "    }\n",
       "\n",
       "    .dataframe thead th {\n",
       "        text-align: right;\n",
       "    }\n",
       "</style>\n",
       "<table border=\"1\" class=\"dataframe\">\n",
       "  <thead>\n",
       "    <tr style=\"text-align: right;\">\n",
       "      <th></th>\n",
       "      <th>Hora do envio: BRT</th>\n",
       "      <th>Nome completo</th>\n",
       "      <th>Enviar e-mail</th>\n",
       "      <th>Número de telefone</th>\n",
       "    </tr>\n",
       "  </thead>\n",
       "  <tbody>\n",
       "    <tr>\n",
       "      <th>0</th>\n",
       "      <td>2024-06-04 20:58:00</td>\n",
       "      <td>Nicolas Hideto Okubo</td>\n",
       "      <td>okubonicolas@gmail.com</td>\n",
       "      <td>16993318970</td>\n",
       "    </tr>\n",
       "    <tr>\n",
       "      <th>1</th>\n",
       "      <td>2024-06-04 02:09:00</td>\n",
       "      <td>Helber Rafael Rodrigues de França</td>\n",
       "      <td>helberfranca.rr@gmail.com</td>\n",
       "      <td>+55 61991236159</td>\n",
       "    </tr>\n",
       "    <tr>\n",
       "      <th>2</th>\n",
       "      <td>2024-06-19 22:21:00</td>\n",
       "      <td>Tiago</td>\n",
       "      <td>ritakatiadealmeida@gmail.com</td>\n",
       "      <td>+55 66996981190</td>\n",
       "    </tr>\n",
       "    <tr>\n",
       "      <th>3</th>\n",
       "      <td>2024-06-03 14:04:00</td>\n",
       "      <td>WAGNER ALVES CHAGAS</td>\n",
       "      <td>wag2705@gmail.com</td>\n",
       "      <td>+55 51981546412</td>\n",
       "    </tr>\n",
       "    <tr>\n",
       "      <th>4</th>\n",
       "      <td>2024-06-17 08:26:00</td>\n",
       "      <td>ROBSON</td>\n",
       "      <td>npsd.rob.santos@gmail.com</td>\n",
       "      <td>+55 82994358552</td>\n",
       "    </tr>\n",
       "  </tbody>\n",
       "</table>\n",
       "</div>"
      ],
      "text/plain": [
       "   Hora do envio: BRT                      Nome completo  \\\n",
       "0 2024-06-04 20:58:00               Nicolas Hideto Okubo   \n",
       "1 2024-06-04 02:09:00  Helber Rafael Rodrigues de França   \n",
       "2 2024-06-19 22:21:00                             Tiago    \n",
       "3 2024-06-03 14:04:00                WAGNER ALVES CHAGAS   \n",
       "4 2024-06-17 08:26:00                             ROBSON   \n",
       "\n",
       "                  Enviar e-mail Número de telefone  \n",
       "0        okubonicolas@gmail.com        16993318970  \n",
       "1     helberfranca.rr@gmail.com    +55 61991236159  \n",
       "2  ritakatiadealmeida@gmail.com    +55 66996981190  \n",
       "3             wag2705@gmail.com    +55 51981546412  \n",
       "4     npsd.rob.santos@gmail.com    +55 82994358552  "
      ]
     },
     "execution_count": 1,
     "metadata": {},
     "output_type": "execute_result"
    }
   ],
   "source": [
    "import pandas as pd\n",
    "\n",
    "file_path = r'C:\\Users\\camila.marques\\Desktop\\Camila\\leads\\leads.xlsx'\n",
    "df = pd.read_excel(file_path)\n",
    "\n",
    "df.head()"
   ]
  },
  {
   "cell_type": "code",
   "execution_count": 2,
   "id": "386d21df",
   "metadata": {},
   "outputs": [],
   "source": [
    "df[['Primeiro Nome', 'Sobrenome']] = df['Nome completo'].str.split(n=1, expand=True)\n",
    "\n",
    "df['Primeiro Nome'] = df['Primeiro Nome'].str.title()\n",
    "\n",
    "df['Sobrenome'] = df.apply(lambda row: row['Primeiro Nome'][0].upper() if pd.isnull(row['Sobrenome']) else row['Sobrenome'].title(), axis=1)"
   ]
  },
  {
   "cell_type": "code",
   "execution_count": 3,
   "id": "576df811",
   "metadata": {},
   "outputs": [
    {
     "data": {
      "text/plain": [
       "0          okubonicolas@gmail.com\n",
       "1       helberfranca.rr@gmail.com\n",
       "2    ritakatiadealmeida@gmail.com\n",
       "3               wag2705@gmail.com\n",
       "4       npsd.rob.santos@gmail.com\n",
       "Name: Email, dtype: object"
      ]
     },
     "execution_count": 3,
     "metadata": {},
     "output_type": "execute_result"
    }
   ],
   "source": [
    "df.rename(columns={'Enviar e-mail': 'Email'}, inplace=True)\n",
    "\n",
    "df['Email'].head()"
   ]
  },
  {
   "cell_type": "code",
   "execution_count": 4,
   "id": "5f232996",
   "metadata": {},
   "outputs": [
    {
     "data": {
      "text/plain": [
       "0    (16)993318970\n",
       "1    (61)991236159\n",
       "2    (66)996981190\n",
       "3    (51)981546412\n",
       "4    (82)994358552\n",
       "Name: Telefone, dtype: object"
      ]
     },
     "execution_count": 4,
     "metadata": {},
     "output_type": "execute_result"
    }
   ],
   "source": [
    "import re\n",
    "\n",
    "def format_phone(phone):\n",
    "    \n",
    "    phone = re.sub(r'\\D', '', phone)\n",
    "    \n",
    "    \n",
    "    if phone.startswith('55'):\n",
    "        phone = phone[2:]\n",
    "    \n",
    "    if len(phone) == 11:\n",
    "        phone = f\"({phone[:2]}){phone[2:]}\"\n",
    "    elif len(phone) == 10:\n",
    "        phone = f\"({phone[:2]}){phone[2:]}\"\n",
    "    \n",
    "    return phone\n",
    "\n",
    "df['Telefone'] = df['Número de telefone'].apply(format_phone)\n",
    "\n",
    "df['Telefone'].head()"
   ]
  },
  {
   "cell_type": "code",
   "execution_count": 5,
   "id": "31d3bd40",
   "metadata": {},
   "outputs": [
    {
     "name": "stdout",
     "output_type": "stream",
     "text": [
      "Número de duplicados removidos: 15\n"
     ]
    }
   ],
   "source": [
    "num_rows_before = df.shape[0]\n",
    "\n",
    "df.drop_duplicates(subset='Email', inplace=True)\n",
    "\n",
    "num_rows_after = df.shape[0]\n",
    "\n",
    "num_duplicates_removed = num_rows_before - num_rows_after\n",
    "\n",
    "print(f\"Número de duplicados removidos: {num_duplicates_removed}\")"
   ]
  },
  {
   "cell_type": "code",
   "execution_count": 6,
   "id": "5dc80062",
   "metadata": {},
   "outputs": [],
   "source": [
    "result_df = df[['Primeiro Nome', 'Sobrenome', 'Email', 'Telefone']]\n",
    "\n",
    "result_df.to_excel(r'C:\\Users\\camila.marques\\Desktop\\Camila\\leads\\leads_Processado.xlsx', index=False)"
   ]
  },
  {
   "cell_type": "code",
   "execution_count": null,
   "id": "5fc2d4c5",
   "metadata": {},
   "outputs": [],
   "source": [
    "from simple_salesforce import Salesforce\n",
    "\n",
    "sf = Salesforce(\n",
    "    username='usuario',\n",
    "    password='senha',\n",
    "    security_token='token',\n",
    "    domain='login'\n",
    ")\n",
    "\n",
    "# Testar a conexão\n",
    "print(sf.describe())\n",
    "\n",
    "# Preparar os dados para upload\n",
    "records = result_df.to_dict(orient='records')\n",
    "\n",
    "# Fazer upload dos dados para o Salesforce\n",
    "for record in records:\n",
    "    try:\n",
    "        sf.Contact.create({\n",
    "            'FirstName': record['Primeiro Nome'],\n",
    "            'LastName': record['Sobrenome'],\n",
    "            'Email': record['Email'],\n",
    "            'Phone': record['Telefone']\n",
    "        })\n",
    "        print(f\"Registro criado para {record['Email']}\")\n",
    "    except Exception as e:\n",
    "        print(f\"Erro ao criar registro para {record['Email']}: {e}\")"
   ]
  },
  {
   "cell_type": "markdown",
   "id": "d43e01eb",
   "metadata": {},
   "source": [
    "Fim"
   ]
  }
 ],
 "metadata": {
  "kernelspec": {
   "display_name": "Python 3 (ipykernel)",
   "language": "python",
   "name": "python3"
  },
  "language_info": {
   "codemirror_mode": {
    "name": "ipython",
    "version": 3
   },
   "file_extension": ".py",
   "mimetype": "text/x-python",
   "name": "python",
   "nbconvert_exporter": "python",
   "pygments_lexer": "ipython3",
   "version": "3.11.4"
  }
 },
 "nbformat": 4,
 "nbformat_minor": 5
}
